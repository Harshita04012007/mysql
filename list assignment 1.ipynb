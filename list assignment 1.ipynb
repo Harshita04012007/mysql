{
 "cells": [
  {
   "cell_type": "code",
   "execution_count": 1,
   "id": "7dd52746-37db-4778-889c-29123a906f9f",
   "metadata": {},
   "outputs": [],
   "source": [
    "#####ASSIGNMENT 1 LIST"
   ]
  },
  {
   "cell_type": "code",
   "execution_count": 2,
   "id": "4187477e-93c4-4ff0-9606-145c132b1c1d",
   "metadata": {},
   "outputs": [
    {
     "name": "stdout",
     "output_type": "stream",
     "text": [
      "[10, 20, 30, 40, 50, 60]\n",
      "[60, 20, 30, 40, 50, 10]\n"
     ]
    }
   ],
   "source": [
    "#write a program to interchange first and last elements in a list.\n",
    "my_list=[10,20,30,40,50,60]\n",
    "print(my_list)\n",
    "#interchange first and last element\n",
    "my_list[0],my_list[-1]=my_list[-1],my_list[0]\n",
    "print (my_list)"
   ]
  },
  {
   "cell_type": "code",
   "execution_count": 3,
   "id": "98aaa800-578a-43b4-bc44-182b0b7d4f78",
   "metadata": {},
   "outputs": [
    {
     "name": "stdout",
     "output_type": "stream",
     "text": [
      "[78, 25, 56, 26]\n"
     ]
    }
   ],
   "source": [
    "#2 program to swap two element in a list.\n",
    "a=[56,25,78,26]\n",
    "#swap\n",
    "a[0],a[2]=a[2],a[0]\n",
    "print(a)"
   ]
  },
  {
   "cell_type": "code",
   "execution_count": 4,
   "id": "5390a052-caaa-408d-a5b4-aa6caf2155a0",
   "metadata": {},
   "outputs": [
    {
     "name": "stdout",
     "output_type": "stream",
     "text": [
      "['english', 'is', 'good']\n"
     ]
    }
   ],
   "source": [
    "# 3 swap element in string list.\n",
    "list_str=[\"english\",\"good\",\"is\"]\n",
    "#swap string list\n",
    "list_str[1],list_str[2]=list_str[2],list_str[1]\n",
    "print(list_str)"
   ]
  },
  {
   "cell_type": "code",
   "execution_count": 5,
   "id": "f3acf2d2-beb9-4202-9c34-c2846b686ee2",
   "metadata": {},
   "outputs": [
    {
     "name": "stdout",
     "output_type": "stream",
     "text": [
      "7\n"
     ]
    }
   ],
   "source": [
    "#4 ways to find length of list\n",
    "x=[6,8,9,3,6,8,4]\n",
    "length=len(x)\n",
    "print(length)"
   ]
  },
  {
   "cell_type": "code",
   "execution_count": 6,
   "id": "c96b7446-df95-4919-91fd-848a59639b30",
   "metadata": {},
   "outputs": [
    {
     "name": "stdout",
     "output_type": "stream",
     "text": [
      "80\n"
     ]
    }
   ],
   "source": [
    "# 5 maximum of two numbers in python.\n",
    "x=max(50,80)\n",
    "print(x)"
   ]
  },
  {
   "cell_type": "code",
   "execution_count": 7,
   "id": "f2871aff-7701-46a1-8c8a-1126638d7473",
   "metadata": {},
   "outputs": [
    {
     "name": "stdout",
     "output_type": "stream",
     "text": [
      "50\n"
     ]
    }
   ],
   "source": [
    "# 6 minimum of two number in python.\n",
    "num1=50\n",
    "num2=80\n",
    "num=min(50,80)\n",
    "print(num)"
   ]
  },
  {
   "cell_type": "code",
   "execution_count": 8,
   "id": "25e525f7-8039-4215-9b92-649c68891ebc",
   "metadata": {},
   "outputs": [
    {
     "name": "stdout",
     "output_type": "stream",
     "text": [
      "True\n"
     ]
    }
   ],
   "source": [
    "#7 ways to check if element exists in list.\n",
    "thislist=[\"apple\",\"banana\",\"cherry\"]\n",
    "if \"apple\" in thislist:\n",
    "    print(\"apple\" in thislist)\n",
    "else:\n",
    "    print(\"apple\" in thislist)"
   ]
  },
  {
   "cell_type": "code",
   "execution_count": 9,
   "id": "6b0ef957-7496-4d47-8f09-2cad9ee47594",
   "metadata": {},
   "outputs": [
    {
     "name": "stdout",
     "output_type": "stream",
     "text": [
      "[]\n"
     ]
    }
   ],
   "source": [
    "#8 different ways to  clear  a list in python.\n",
    "list=[\"a\",\"b\",\"c\",\"d\"]\n",
    "list.clear()\n",
    "print(list)"
   ]
  },
  {
   "cell_type": "code",
   "execution_count": 10,
   "id": "28d23aad-5e79-4b60-bc01-1b6ec2ea1bc3",
   "metadata": {},
   "outputs": [
    {
     "name": "stdout",
     "output_type": "stream",
     "text": [
      "['banana', 'apple', 'kiwi']\n"
     ]
    }
   ],
   "source": [
    "#9 reversing list\n",
    "fruits=[\"kiwi\",\"apple\",\"banana\"]\n",
    "fruits.reverse()\n",
    "print(fruits)"
   ]
  },
  {
   "cell_type": "code",
   "execution_count": 11,
   "id": "7910cce8-bfe2-4bb3-b6d9-59994afa326d",
   "metadata": {},
   "outputs": [
    {
     "name": "stdout",
     "output_type": "stream",
     "text": [
      "['cherry', 'mango', 'apple']\n"
     ]
    }
   ],
   "source": [
    "#10 cloning or copying list.\n",
    "fruits=[\"cherry\",\"mango\",\"apple\"]\n",
    "x=fruits.copy()\n",
    "print(x)\n",
    "        "
   ]
  },
  {
   "cell_type": "code",
   "execution_count": 12,
   "id": "c25dcb8f-8ddc-4cb9-86cf-f6f44a79206b",
   "metadata": {},
   "outputs": [
    {
     "data": {
      "text/plain": [
       "1"
      ]
     },
     "execution_count": 12,
     "metadata": {},
     "output_type": "execute_result"
    }
   ],
   "source": [
    "#11 count occurence of an element in alist.\n",
    "list=[\"ram\",\"shyam\",\"radha\"]\n",
    "list.count(\"radha\")"
   ]
  },
  {
   "cell_type": "code",
   "execution_count": 13,
   "id": "0041aa0c-14ce-423b-8d28-f6875315f2be",
   "metadata": {},
   "outputs": [
    {
     "name": "stdout",
     "output_type": "stream",
     "text": [
      "150\n",
      "30.0\n"
     ]
    }
   ],
   "source": [
    "#12 program to find sum and average  of list in a python.\n",
    "number=[10,20,30,40,50]\n",
    "total_sum=sum(number)\n",
    "average=total_sum/len(number)\n",
    "print(total_sum)\n",
    "print(average)"
   ]
  },
  {
   "cell_type": "code",
   "execution_count": 14,
   "id": "e7c362e4-9ac8-486f-9269-4e4486d87326",
   "metadata": {},
   "outputs": [
    {
     "name": "stdout",
     "output_type": "stream",
     "text": [
      "2292\n"
     ]
    }
   ],
   "source": [
    "#13 sum of number digits in list.\n",
    "list =[528,852,654,258]\n",
    "x=sum(list)\n",
    "print(x)"
   ]
  },
  {
   "cell_type": "code",
   "execution_count": 15,
   "id": "7aadf1ed-082d-4e0f-8f47-79ccfd4b4b56",
   "metadata": {},
   "outputs": [
    {
     "name": "stdout",
     "output_type": "stream",
     "text": [
      "56\n"
     ]
    }
   ],
   "source": [
    "#14 multiply all number in the list.\n",
    "x=8\n",
    "y=7\n",
    "print(x*y)"
   ]
  },
  {
   "cell_type": "code",
   "execution_count": 16,
   "id": "8f79ed26-3802-4ed6-b932-6277cd867de3",
   "metadata": {},
   "outputs": [
    {
     "name": "stdout",
     "output_type": "stream",
     "text": [
      "1\n"
     ]
    }
   ],
   "source": [
    "#15 program to find smallest number in a list.\n",
    "x=[5,3,7,6,8,9,1]\n",
    "list=min(x)\n",
    "print(list)"
   ]
  },
  {
   "cell_type": "code",
   "execution_count": 17,
   "id": "7bc5f5e8-a39e-47de-b1ac-c057556cb18a",
   "metadata": {},
   "outputs": [
    {
     "name": "stdout",
     "output_type": "stream",
     "text": [
      "12\n"
     ]
    }
   ],
   "source": [
    "#16 program to find largest number in a list.\n",
    "list1=[9,8,10,11,12,5,6]\n",
    "y=max(list1)\n",
    "print(y)"
   ]
  },
  {
   "cell_type": "code",
   "execution_count": 18,
   "id": "a57ccbf5-4a31-468f-8a7f-9b62cf923383",
   "metadata": {},
   "outputs": [],
   "source": [
    "#17 program to find second largest  number in a list.\n",
    "def find_second_largest(Mak2001):\n",
    "    return sorted(set(Mak2001))[-2]\n",
    "   \n",
    "    Mak2001=[1,2,3,4,5]\n",
    "    print(find_second_largest(mak2001))"
   ]
  },
  {
   "cell_type": "code",
   "execution_count": 19,
   "id": "8e7be7f6-b5c1-406f-87e0-459d77de7a25",
   "metadata": {},
   "outputs": [
    {
     "name": "stdout",
     "output_type": "stream",
     "text": [
      "2\n",
      "4\n",
      "6\n",
      "8\n"
     ]
    }
   ],
   "source": [
    "#18 program to print even number\n",
    "even=[1,2,3,4,5,6,7,8,9]\n",
    "for val in even:\n",
    "    #check if a number is divisible by 2 (i.e.,even).\n",
    "    if val % 2==0:\n",
    "        print(val)"
   ]
  },
  {
   "cell_type": "code",
   "execution_count": 20,
   "id": "dfac2e2e-a3b8-47f4-b8a0-e1d5218fbc62",
   "metadata": {},
   "outputs": [
    {
     "name": "stdout",
     "output_type": "stream",
     "text": [
      "1\n",
      "3\n",
      "5\n",
      "7\n",
      "9\n"
     ]
    }
   ],
   "source": [
    "#19 program to print odd number:\n",
    "odd=[1,2,3,4,5,6,7,8,9]\n",
    "for val1 in odd:\n",
    "\n",
    "    if val1 % 2 !=0:\n",
    "        print(val1)"
   ]
  },
  {
   "cell_type": "code",
   "execution_count": 22,
   "id": "2df2832b-291b-4c0f-a991-b4af06347ee9",
   "metadata": {},
   "outputs": [
    {
     "name": "stdin",
     "output_type": "stream",
     "text": [
      "enter the start of range: 2\n",
      "enter the end of range: 20\n"
     ]
    },
    {
     "name": "stdout",
     "output_type": "stream",
     "text": [
      "2\n",
      "4\n",
      "6\n",
      "8\n",
      "10\n",
      "12\n",
      "14\n",
      "16\n",
      "18\n"
     ]
    }
   ],
   "source": [
    "#20 program to print all even number in a range.\n",
    "start=int(input(\"enter the start of range:\"))\n",
    "end=int(input(\"enter the end of range:\"))\n",
    "#iterating each number in list\n",
    "for x in range(start,end):\n",
    "    #checking condition\n",
    "    if x % 2 == 0:\n",
    "      print(x,)"
   ]
  },
  {
   "cell_type": "code",
   "execution_count": 23,
   "id": "88f96482-d73c-4133-a467-a92315d0fd59",
   "metadata": {},
   "outputs": [
    {
     "name": "stdin",
     "output_type": "stream",
     "text": [
      "enter the start of range: 4\n",
      "enter the end of range: 10\n"
     ]
    },
    {
     "name": "stdout",
     "output_type": "stream",
     "text": [
      "5\n",
      "7\n",
      "9\n"
     ]
    }
   ],
   "source": [
    "#21 program to print all odd number in a range.\n",
    "start=int(input(\"enter the start of range:\"))\n",
    "end=int(input(\"enter the end of range:\"))\n",
    "\n",
    "#iteracting each number in list\n",
    "for x in range(start,end):\n",
    "    #checking condition\n",
    "    if x % 2!=0:\n",
    "        print(x,)"
   ]
  },
  {
   "cell_type": "code",
   "execution_count": 24,
   "id": "4756fa85-e0e7-48d4-be3d-0e7c8a0f6c7d",
   "metadata": {},
   "outputs": [
    {
     "name": "stdout",
     "output_type": "stream",
     "text": [
      "even numbers in the list: 0\n",
      "odd numbers in the list: 1\n",
      "even numbers in the list: 2\n",
      "odd numbers in the list: 2\n",
      "even numbers in the list: 3\n",
      "odd numbers in the list: 3\n",
      "even numbers in the list: 3\n",
      "odd numbers in the list: 4\n"
     ]
    }
   ],
   "source": [
    "#22 program to  count even and odd numbers in alist\n",
    "list2=[85,80,90,95,96,13,15,2]\n",
    "even_count,odd_count=0,0\n",
    "#iteracting each number in list\n",
    "for x in list2:\n",
    "    #checking condition\n",
    "    if x % 2 ==0:\n",
    "        even_count +=1\n",
    "    else:\n",
    "        odd_count +=1\n",
    "        print(\"even numbers in the list:\",even_count)\n",
    "        print(\"odd numbers in the list:\",odd_count)"
   ]
  },
  {
   "cell_type": "code",
   "execution_count": 25,
   "id": "35770ffd-d2cf-4281-a5bc-526ba62914e8",
   "metadata": {},
   "outputs": [
    {
     "name": "stdout",
     "output_type": "stream",
     "text": [
      "1 2 3 4 5 7 8 "
     ]
    }
   ],
   "source": [
    "#23 program to print positive  numbers in a list\n",
    "list_this=[1,2,3,4,5,-6,7,8,-9]\n",
    "for num in list_this:\n",
    "    if num>=0:\n",
    "        print(num,end=\" \")"
   ]
  },
  {
   "cell_type": "code",
   "execution_count": 26,
   "id": "acf12a46-a88d-4640-8bf6-6b7238a12f04",
   "metadata": {},
   "outputs": [
    {
     "name": "stdout",
     "output_type": "stream",
     "text": [
      "-3 -5 -7 "
     ]
    }
   ],
   "source": [
    "#24 program to print negative number in a list.\n",
    "this_list=[1,2,-3,4,-5,6,-7,8,9]\n",
    "#iteracting each number in list\n",
    "for x in this_list:\n",
    "    #checking condition\n",
    "    if x < 0:\n",
    "        print(x,end=\" \")"
   ]
  },
  {
   "cell_type": "code",
   "execution_count": null,
   "id": "609139aa-adbd-46d9-9321-bba717b35863",
   "metadata": {},
   "outputs": [
    {
     "name": "stdin",
     "output_type": "stream",
     "text": [
      "enter the start of range: 4\n"
     ]
    }
   ],
   "source": [
    "## 25 program to print all positive numbers in a  range.\n",
    "start=int(input(\"enter the start of range:\"))\n",
    "end=int(input(\"enter the start of range:\"))\n",
    "#iteracting each number in  list\n",
    "for x in range(start,end):\n",
    "    #checking condition\n",
    "    if x >=0:\n",
    "        print(x,end =\" \")"
   ]
  },
  {
   "cell_type": "code",
   "execution_count": 1,
   "id": "618ffee1-70de-44db-a0f4-23e548a97c5c",
   "metadata": {},
   "outputs": [
    {
     "name": "stdin",
     "output_type": "stream",
     "text": [
      "enter the start of range: -3\n",
      "enter the end of range: 2\n"
     ]
    },
    {
     "name": "stdout",
     "output_type": "stream",
     "text": [
      "-3 -2 -1 "
     ]
    }
   ],
   "source": [
    "#26 program to print all negative number in a range.\n",
    "start=int(input(\"enter the start of range:\"))\n",
    "end=int(input(\"enter the end of range:\"))\n",
    "        #iteracting each number in list\n",
    "for num in range(start,end):\n",
    "    #checking condition\n",
    "    if num < 0:\n",
    "        print(num,end=\" \")"
   ]
  },
  {
   "cell_type": "code",
   "execution_count": 26,
   "id": "fa7b8926-1934-4df4-ae80-40534db1dd65",
   "metadata": {},
   "outputs": [
    {
     "name": "stdout",
     "output_type": "stream",
     "text": [
      "Positive numbers in this list: 5\n",
      "negative numbers in this list: 2\n"
     ]
    }
   ],
   "source": [
    "#27 program to count positive and negative numbers in a list.\n",
    "l=[30,35,-67,8,9,90,-33]\n",
    "positive_number,negative_number=0, 0\n",
    "#iteracting each number in list\n",
    "for  x in l:\n",
    "    #checking condition\n",
    "    if x >=0:\n",
    "        positive_number +=1\n",
    "    else:\n",
    "        negative_number +=1\n",
    "\n",
    "print(\"Positive numbers in this list:\",positive_number)\n",
    "print(\"negative numbers in this list:\",negative_number)"
   ]
  },
  {
   "cell_type": "code",
   "execution_count": 28,
   "id": "2d2e6101-4249-4c8a-ae0e-66efb54e98cd",
   "metadata": {},
   "outputs": [
    {
     "name": "stdout",
     "output_type": "stream",
     "text": [
      "[1, 5]\n"
     ]
    }
   ],
   "source": [
    "#28 remove multiple elements from list in pyhton\n",
    "shr2001=[1,2,3,4,5]\n",
    "del shr2001[1:4]\n",
    "print(shr2001)"
   ]
  },
  {
   "cell_type": "code",
   "execution_count": 30,
   "id": "74969e93-6ae5-4961-81e8-acae56a9cdb2",
   "metadata": {},
   "outputs": [
    {
     "name": "stdout",
     "output_type": "stream",
     "text": [
      "[1, 3, 5, 6]\n"
     ]
    }
   ],
   "source": [
    "#29 remove empty tuples from a list.\n",
    "shr2001=[1,(),3,(),5,6]\n",
    "res=list(filter(None,shr2001))\n",
    "print(str(res))"
   ]
  },
  {
   "cell_type": "code",
   "execution_count": 31,
   "id": "d471ccb2-d2af-4a06-a897-4c00ca5d3bae",
   "metadata": {},
   "outputs": [
    {
     "name": "stdout",
     "output_type": "stream",
     "text": [
      "[7]\n"
     ]
    }
   ],
   "source": [
    "#30 program to print duplicates from alist of integers\n",
    "def Repeat(x):\n",
    "    _size=len(x)\n",
    "    repeated=[]\n",
    "    for i in range(_size):\n",
    "        k=i +1\n",
    "        for j in range (k,_size):\n",
    "          if x[i] ==x[j] and x[i] not in repeated:\n",
    "            repeated.append(x[i])\n",
    "    return repeated\n",
    "list1=[10,12,34,5,6,7,7,]\n",
    "print(Repeat(list1))"
   ]
  }
 ],
 "metadata": {
  "kernelspec": {
   "display_name": "Python 3 (ipykernel)",
   "language": "python",
   "name": "python3"
  },
  "language_info": {
   "codemirror_mode": {
    "name": "ipython",
    "version": 3
   },
   "file_extension": ".py",
   "mimetype": "text/x-python",
   "name": "python",
   "nbconvert_exporter": "python",
   "pygments_lexer": "ipython3",
   "version": "3.12.4"
  }
 },
 "nbformat": 4,
 "nbformat_minor": 5
}
