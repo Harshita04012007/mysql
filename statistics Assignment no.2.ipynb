{
 "cells": [
  {
   "cell_type": "code",
   "execution_count": 3,
   "id": "be7753d0-c84d-4270-bddc-81411fce1d66",
   "metadata": {},
   "outputs": [],
   "source": [
    "import pandas as pd\n",
    "import numpy as np"
   ]
  },
  {
   "cell_type": "code",
   "execution_count": 4,
   "id": "2dc5562b-ab64-4e69-b8fc-a8ffa893e656",
   "metadata": {},
   "outputs": [
    {
     "data": {
      "text/html": [
       "<div>\n",
       "<style scoped>\n",
       "    .dataframe tbody tr th:only-of-type {\n",
       "        vertical-align: middle;\n",
       "    }\n",
       "\n",
       "    .dataframe tbody tr th {\n",
       "        vertical-align: top;\n",
       "    }\n",
       "\n",
       "    .dataframe thead th {\n",
       "        text-align: right;\n",
       "    }\n",
       "</style>\n",
       "<table border=\"1\" class=\"dataframe\">\n",
       "  <thead>\n",
       "    <tr style=\"text-align: right;\">\n",
       "      <th></th>\n",
       "      <th>sepal_length</th>\n",
       "      <th>sepal_width</th>\n",
       "      <th>petal_length</th>\n",
       "      <th>petal_width</th>\n",
       "      <th>species</th>\n",
       "    </tr>\n",
       "  </thead>\n",
       "  <tbody>\n",
       "    <tr>\n",
       "      <th>0</th>\n",
       "      <td>5.1</td>\n",
       "      <td>3.5</td>\n",
       "      <td>1.4</td>\n",
       "      <td>0.2</td>\n",
       "      <td>Iris-setosa</td>\n",
       "    </tr>\n",
       "    <tr>\n",
       "      <th>1</th>\n",
       "      <td>4.9</td>\n",
       "      <td>3.0</td>\n",
       "      <td>1.4</td>\n",
       "      <td>0.2</td>\n",
       "      <td>Iris-setosa</td>\n",
       "    </tr>\n",
       "    <tr>\n",
       "      <th>2</th>\n",
       "      <td>4.7</td>\n",
       "      <td>3.2</td>\n",
       "      <td>1.3</td>\n",
       "      <td>0.2</td>\n",
       "      <td>Iris-setosa</td>\n",
       "    </tr>\n",
       "    <tr>\n",
       "      <th>3</th>\n",
       "      <td>4.6</td>\n",
       "      <td>3.1</td>\n",
       "      <td>1.5</td>\n",
       "      <td>0.2</td>\n",
       "      <td>Iris-setosa</td>\n",
       "    </tr>\n",
       "    <tr>\n",
       "      <th>4</th>\n",
       "      <td>5.0</td>\n",
       "      <td>3.6</td>\n",
       "      <td>1.4</td>\n",
       "      <td>0.2</td>\n",
       "      <td>Iris-setosa</td>\n",
       "    </tr>\n",
       "    <tr>\n",
       "      <th>...</th>\n",
       "      <td>...</td>\n",
       "      <td>...</td>\n",
       "      <td>...</td>\n",
       "      <td>...</td>\n",
       "      <td>...</td>\n",
       "    </tr>\n",
       "    <tr>\n",
       "      <th>145</th>\n",
       "      <td>6.7</td>\n",
       "      <td>3.0</td>\n",
       "      <td>5.2</td>\n",
       "      <td>2.3</td>\n",
       "      <td>Iris-virginica</td>\n",
       "    </tr>\n",
       "    <tr>\n",
       "      <th>146</th>\n",
       "      <td>6.3</td>\n",
       "      <td>2.5</td>\n",
       "      <td>5.0</td>\n",
       "      <td>1.9</td>\n",
       "      <td>Iris-virginica</td>\n",
       "    </tr>\n",
       "    <tr>\n",
       "      <th>147</th>\n",
       "      <td>6.5</td>\n",
       "      <td>3.0</td>\n",
       "      <td>5.2</td>\n",
       "      <td>2.0</td>\n",
       "      <td>Iris-virginica</td>\n",
       "    </tr>\n",
       "    <tr>\n",
       "      <th>148</th>\n",
       "      <td>6.2</td>\n",
       "      <td>3.4</td>\n",
       "      <td>5.4</td>\n",
       "      <td>2.3</td>\n",
       "      <td>Iris-virginica</td>\n",
       "    </tr>\n",
       "    <tr>\n",
       "      <th>149</th>\n",
       "      <td>5.9</td>\n",
       "      <td>3.0</td>\n",
       "      <td>5.1</td>\n",
       "      <td>1.8</td>\n",
       "      <td>Iris-virginica</td>\n",
       "    </tr>\n",
       "  </tbody>\n",
       "</table>\n",
       "<p>150 rows × 5 columns</p>\n",
       "</div>"
      ],
      "text/plain": [
       "     sepal_length  sepal_width  petal_length  petal_width         species\n",
       "0             5.1          3.5           1.4          0.2     Iris-setosa\n",
       "1             4.9          3.0           1.4          0.2     Iris-setosa\n",
       "2             4.7          3.2           1.3          0.2     Iris-setosa\n",
       "3             4.6          3.1           1.5          0.2     Iris-setosa\n",
       "4             5.0          3.6           1.4          0.2     Iris-setosa\n",
       "..            ...          ...           ...          ...             ...\n",
       "145           6.7          3.0           5.2          2.3  Iris-virginica\n",
       "146           6.3          2.5           5.0          1.9  Iris-virginica\n",
       "147           6.5          3.0           5.2          2.0  Iris-virginica\n",
       "148           6.2          3.4           5.4          2.3  Iris-virginica\n",
       "149           5.9          3.0           5.1          1.8  Iris-virginica\n",
       "\n",
       "[150 rows x 5 columns]"
      ]
     },
     "execution_count": 4,
     "metadata": {},
     "output_type": "execute_result"
    }
   ],
   "source": [
    "#load the Iris dataset\n",
    "df=pd.read_csv(\"IRIS.csv\")\n",
    "df"
   ]
  },
  {
   "cell_type": "code",
   "execution_count": 5,
   "id": "9d22226d-79cf-4fd9-83f9-523860139d85",
   "metadata": {},
   "outputs": [
    {
     "data": {
      "text/html": [
       "<div>\n",
       "<style scoped>\n",
       "    .dataframe tbody tr th:only-of-type {\n",
       "        vertical-align: middle;\n",
       "    }\n",
       "\n",
       "    .dataframe tbody tr th {\n",
       "        vertical-align: top;\n",
       "    }\n",
       "\n",
       "    .dataframe thead th {\n",
       "        text-align: right;\n",
       "    }\n",
       "</style>\n",
       "<table border=\"1\" class=\"dataframe\">\n",
       "  <thead>\n",
       "    <tr style=\"text-align: right;\">\n",
       "      <th></th>\n",
       "      <th>sepal_length</th>\n",
       "      <th>sepal_width</th>\n",
       "      <th>petal_length</th>\n",
       "      <th>petal_width</th>\n",
       "      <th>species</th>\n",
       "    </tr>\n",
       "  </thead>\n",
       "  <tbody>\n",
       "    <tr>\n",
       "      <th>0</th>\n",
       "      <td>5.1</td>\n",
       "      <td>3.5</td>\n",
       "      <td>1.4</td>\n",
       "      <td>0.2</td>\n",
       "      <td>Iris-setosa</td>\n",
       "    </tr>\n",
       "    <tr>\n",
       "      <th>1</th>\n",
       "      <td>4.9</td>\n",
       "      <td>3.0</td>\n",
       "      <td>1.4</td>\n",
       "      <td>0.2</td>\n",
       "      <td>Iris-setosa</td>\n",
       "    </tr>\n",
       "    <tr>\n",
       "      <th>2</th>\n",
       "      <td>4.7</td>\n",
       "      <td>3.2</td>\n",
       "      <td>1.3</td>\n",
       "      <td>0.2</td>\n",
       "      <td>Iris-setosa</td>\n",
       "    </tr>\n",
       "    <tr>\n",
       "      <th>3</th>\n",
       "      <td>4.6</td>\n",
       "      <td>3.1</td>\n",
       "      <td>1.5</td>\n",
       "      <td>0.2</td>\n",
       "      <td>Iris-setosa</td>\n",
       "    </tr>\n",
       "    <tr>\n",
       "      <th>4</th>\n",
       "      <td>5.0</td>\n",
       "      <td>3.6</td>\n",
       "      <td>1.4</td>\n",
       "      <td>0.2</td>\n",
       "      <td>Iris-setosa</td>\n",
       "    </tr>\n",
       "  </tbody>\n",
       "</table>\n",
       "</div>"
      ],
      "text/plain": [
       "   sepal_length  sepal_width  petal_length  petal_width      species\n",
       "0           5.1          3.5           1.4          0.2  Iris-setosa\n",
       "1           4.9          3.0           1.4          0.2  Iris-setosa\n",
       "2           4.7          3.2           1.3          0.2  Iris-setosa\n",
       "3           4.6          3.1           1.5          0.2  Iris-setosa\n",
       "4           5.0          3.6           1.4          0.2  Iris-setosa"
      ]
     },
     "execution_count": 5,
     "metadata": {},
     "output_type": "execute_result"
    }
   ],
   "source": [
    "df.head(5)\n"
   ]
  },
  {
   "cell_type": "code",
   "execution_count": 6,
   "id": "49f66777-c91a-4b66-9a68-d2db590abcaf",
   "metadata": {},
   "outputs": [
    {
     "name": "stdout",
     "output_type": "stream",
     "text": [
      "<class 'pandas.core.frame.DataFrame'>\n",
      "RangeIndex: 150 entries, 0 to 149\n",
      "Data columns (total 5 columns):\n",
      " #   Column        Non-Null Count  Dtype  \n",
      "---  ------        --------------  -----  \n",
      " 0   sepal_length  150 non-null    float64\n",
      " 1   sepal_width   150 non-null    float64\n",
      " 2   petal_length  150 non-null    float64\n",
      " 3   petal_width   150 non-null    float64\n",
      " 4   species       150 non-null    object \n",
      "dtypes: float64(4), object(1)\n",
      "memory usage: 6.0+ KB\n"
     ]
    }
   ],
   "source": [
    "df.info()"
   ]
  },
  {
   "cell_type": "code",
   "execution_count": 7,
   "id": "a2619777-3827-47bf-9ebe-fe0d76926252",
   "metadata": {},
   "outputs": [
    {
     "data": {
      "text/html": [
       "<div>\n",
       "<style scoped>\n",
       "    .dataframe tbody tr th:only-of-type {\n",
       "        vertical-align: middle;\n",
       "    }\n",
       "\n",
       "    .dataframe tbody tr th {\n",
       "        vertical-align: top;\n",
       "    }\n",
       "\n",
       "    .dataframe thead th {\n",
       "        text-align: right;\n",
       "    }\n",
       "</style>\n",
       "<table border=\"1\" class=\"dataframe\">\n",
       "  <thead>\n",
       "    <tr style=\"text-align: right;\">\n",
       "      <th></th>\n",
       "      <th>sepal_length</th>\n",
       "      <th>sepal_width</th>\n",
       "      <th>petal_length</th>\n",
       "      <th>petal_width</th>\n",
       "      <th>species</th>\n",
       "    </tr>\n",
       "  </thead>\n",
       "  <tbody>\n",
       "    <tr>\n",
       "      <th>0</th>\n",
       "      <td>5.1</td>\n",
       "      <td>3.5</td>\n",
       "      <td>1.4</td>\n",
       "      <td>0.2</td>\n",
       "      <td>Iris-setosa</td>\n",
       "    </tr>\n",
       "    <tr>\n",
       "      <th>1</th>\n",
       "      <td>4.9</td>\n",
       "      <td>3.0</td>\n",
       "      <td>1.4</td>\n",
       "      <td>0.2</td>\n",
       "      <td>Iris-setosa</td>\n",
       "    </tr>\n",
       "    <tr>\n",
       "      <th>2</th>\n",
       "      <td>4.7</td>\n",
       "      <td>3.2</td>\n",
       "      <td>1.3</td>\n",
       "      <td>0.2</td>\n",
       "      <td>Iris-setosa</td>\n",
       "    </tr>\n",
       "    <tr>\n",
       "      <th>3</th>\n",
       "      <td>4.6</td>\n",
       "      <td>3.1</td>\n",
       "      <td>1.5</td>\n",
       "      <td>0.2</td>\n",
       "      <td>Iris-setosa</td>\n",
       "    </tr>\n",
       "    <tr>\n",
       "      <th>4</th>\n",
       "      <td>5.0</td>\n",
       "      <td>3.6</td>\n",
       "      <td>1.4</td>\n",
       "      <td>0.2</td>\n",
       "      <td>Iris-setosa</td>\n",
       "    </tr>\n",
       "  </tbody>\n",
       "</table>\n",
       "</div>"
      ],
      "text/plain": [
       "   sepal_length  sepal_width  petal_length  petal_width      species\n",
       "0           5.1          3.5           1.4          0.2  Iris-setosa\n",
       "1           4.9          3.0           1.4          0.2  Iris-setosa\n",
       "2           4.7          3.2           1.3          0.2  Iris-setosa\n",
       "3           4.6          3.1           1.5          0.2  Iris-setosa\n",
       "4           5.0          3.6           1.4          0.2  Iris-setosa"
      ]
     },
     "execution_count": 7,
     "metadata": {},
     "output_type": "execute_result"
    }
   ],
   "source": [
    "sub_df = df[['sepal_length','sepal_width','petal_length','petal_width','species']]\n",
    "sub_df.head()"
   ]
  },
  {
   "cell_type": "code",
   "execution_count": 8,
   "id": "30892978-3ca3-4f39-9f07-1cfab5464d76",
   "metadata": {},
   "outputs": [],
   "source": [
    "#1.cental tendency :without directly calculating the mean,determine which sepal measurement(sepal_length,sepal_width)has a higher average by observing the dataset.\n",
    "\n"
   ]
  },
  {
   "cell_type": "code",
   "execution_count": 9,
   "id": "43b96828-972f-4248-84aa-f0f0c6851818",
   "metadata": {},
   "outputs": [
    {
     "data": {
      "text/html": [
       "<div>\n",
       "<style scoped>\n",
       "    .dataframe tbody tr th:only-of-type {\n",
       "        vertical-align: middle;\n",
       "    }\n",
       "\n",
       "    .dataframe tbody tr th {\n",
       "        vertical-align: top;\n",
       "    }\n",
       "\n",
       "    .dataframe thead th {\n",
       "        text-align: right;\n",
       "    }\n",
       "</style>\n",
       "<table border=\"1\" class=\"dataframe\">\n",
       "  <thead>\n",
       "    <tr style=\"text-align: right;\">\n",
       "      <th></th>\n",
       "      <th>sepal_length</th>\n",
       "      <th>sepal_width</th>\n",
       "      <th>petal_length</th>\n",
       "      <th>petal_width</th>\n",
       "    </tr>\n",
       "  </thead>\n",
       "  <tbody>\n",
       "    <tr>\n",
       "      <th>count</th>\n",
       "      <td>150.000000</td>\n",
       "      <td>150.000000</td>\n",
       "      <td>150.000000</td>\n",
       "      <td>150.000000</td>\n",
       "    </tr>\n",
       "    <tr>\n",
       "      <th>mean</th>\n",
       "      <td>5.843333</td>\n",
       "      <td>3.054000</td>\n",
       "      <td>3.758667</td>\n",
       "      <td>1.198667</td>\n",
       "    </tr>\n",
       "    <tr>\n",
       "      <th>std</th>\n",
       "      <td>0.828066</td>\n",
       "      <td>0.433594</td>\n",
       "      <td>1.764420</td>\n",
       "      <td>0.763161</td>\n",
       "    </tr>\n",
       "    <tr>\n",
       "      <th>min</th>\n",
       "      <td>4.300000</td>\n",
       "      <td>2.000000</td>\n",
       "      <td>1.000000</td>\n",
       "      <td>0.100000</td>\n",
       "    </tr>\n",
       "    <tr>\n",
       "      <th>25%</th>\n",
       "      <td>5.100000</td>\n",
       "      <td>2.800000</td>\n",
       "      <td>1.600000</td>\n",
       "      <td>0.300000</td>\n",
       "    </tr>\n",
       "    <tr>\n",
       "      <th>50%</th>\n",
       "      <td>5.800000</td>\n",
       "      <td>3.000000</td>\n",
       "      <td>4.350000</td>\n",
       "      <td>1.300000</td>\n",
       "    </tr>\n",
       "    <tr>\n",
       "      <th>75%</th>\n",
       "      <td>6.400000</td>\n",
       "      <td>3.300000</td>\n",
       "      <td>5.100000</td>\n",
       "      <td>1.800000</td>\n",
       "    </tr>\n",
       "    <tr>\n",
       "      <th>max</th>\n",
       "      <td>7.900000</td>\n",
       "      <td>4.400000</td>\n",
       "      <td>6.900000</td>\n",
       "      <td>2.500000</td>\n",
       "    </tr>\n",
       "  </tbody>\n",
       "</table>\n",
       "</div>"
      ],
      "text/plain": [
       "       sepal_length  sepal_width  petal_length  petal_width\n",
       "count    150.000000   150.000000    150.000000   150.000000\n",
       "mean       5.843333     3.054000      3.758667     1.198667\n",
       "std        0.828066     0.433594      1.764420     0.763161\n",
       "min        4.300000     2.000000      1.000000     0.100000\n",
       "25%        5.100000     2.800000      1.600000     0.300000\n",
       "50%        5.800000     3.000000      4.350000     1.300000\n",
       "75%        6.400000     3.300000      5.100000     1.800000\n",
       "max        7.900000     4.400000      6.900000     2.500000"
      ]
     },
     "execution_count": 9,
     "metadata": {},
     "output_type": "execute_result"
    }
   ],
   "source": [
    "sub_df.describe()\n",
    "#sepal_length has higher average because sepal_length has higher mean than the sepal_width."
   ]
  },
  {
   "cell_type": "code",
   "execution_count": 10,
   "id": "d519de1e-2d68-4fca-b24a-12674f3ddaff",
   "metadata": {},
   "outputs": [],
   "source": [
    "#2.dispersion:compare the variability of petal measurements by checking the difference between the range of petal_length and petal_width which feature shown more sperad??"
   ]
  },
  {
   "cell_type": "code",
   "execution_count": 11,
   "id": "0c9e66ca-4895-4161-aa60-dabf2c0edf31",
   "metadata": {},
   "outputs": [
    {
     "data": {
      "text/plain": [
       "6.800000000000001"
      ]
     },
     "execution_count": 11,
     "metadata": {},
     "output_type": "execute_result"
    }
   ],
   "source": [
    "range1=sub_df['petal_length'].max()-sub_df['petal_width'].min()\n",
    "range1"
   ]
  },
  {
   "cell_type": "code",
   "execution_count": 12,
   "id": "74d767db-12e9-4c3c-8d35-f5bdaa4c8403",
   "metadata": {},
   "outputs": [
    {
     "data": {
      "text/plain": [
       "2.4"
      ]
     },
     "execution_count": 12,
     "metadata": {},
     "output_type": "execute_result"
    }
   ],
   "source": [
    "range2=sub_df['petal_width'].max()-sub_df['petal_width'].min()\n",
    "range2"
   ]
  },
  {
   "cell_type": "code",
   "execution_count": 13,
   "id": "81e84d67-9f4f-4bb6-85f7-88013bcfdbd7",
   "metadata": {},
   "outputs": [],
   "source": [
    "#3.quartiles:identify which features,sepal_length or sepal_width,has a higher interquartile range(IQR),indicating greater variability in the middle 50% of the data."
   ]
  },
  {
   "cell_type": "code",
   "execution_count": 14,
   "id": "fd95f599-b9c5-4300-b937-e62aa461724b",
   "metadata": {},
   "outputs": [
    {
     "data": {
      "text/plain": [
       "1.3000000000000007"
      ]
     },
     "execution_count": 14,
     "metadata": {},
     "output_type": "execute_result"
    }
   ],
   "source": [
    "IQR1=sub_df['sepal_length'].quantile(0.75)-sub_df['sepal_length'].quantile(0.25)\n",
    "IQR1"
   ]
  },
  {
   "cell_type": "code",
   "execution_count": 15,
   "id": "ddd82648-3f07-49e6-8415-dee244f463b2",
   "metadata": {},
   "outputs": [
    {
     "data": {
      "text/plain": [
       "0.5"
      ]
     },
     "execution_count": 15,
     "metadata": {},
     "output_type": "execute_result"
    }
   ],
   "source": [
    "IQR2=sub_df['sepal_width'].quantile(0.75)-sub_df['sepal_width'].quantile(0.25)\n",
    "IQR2"
   ]
  },
  {
   "cell_type": "code",
   "execution_count": 16,
   "id": "86233231-0c11-4b47-85c6-9954d42ae9fb",
   "metadata": {},
   "outputs": [],
   "source": [
    "#IQR 1 has the greater variability.so ,sepal_length has more variability."
   ]
  },
  {
   "cell_type": "code",
   "execution_count": 17,
   "id": "78a91b25-efc1-44d1-bb48-2928dfc25eef",
   "metadata": {},
   "outputs": [],
   "source": [
    "#4.stanadard deviation:insight based on the computer standard deviation of sepal_length and sepal_width,determine  which attribute exhibits more variablity and discuss what this indicates about the consistency of the two features"
   ]
  },
  {
   "cell_type": "code",
   "execution_count": 18,
   "id": "e090c07e-a20c-46a4-a7ef-d4035aafbe8a",
   "metadata": {},
   "outputs": [
    {
     "data": {
      "text/plain": [
       "0.4335943113621737"
      ]
     },
     "execution_count": 18,
     "metadata": {},
     "output_type": "execute_result"
    }
   ],
   "source": [
    "std1=sub_df['sepal_width'].std()\n",
    "std1"
   ]
  },
  {
   "cell_type": "code",
   "execution_count": 19,
   "id": "3e602098-6c15-472a-b297-2257a47dfccf",
   "metadata": {},
   "outputs": [
    {
     "data": {
      "text/plain": [
       "0.8280661279778629"
      ]
     },
     "execution_count": 19,
     "metadata": {},
     "output_type": "execute_result"
    }
   ],
   "source": [
    "std2=sub_df['sepal_length'].std()\n",
    "std2"
   ]
  },
  {
   "cell_type": "code",
   "execution_count": 20,
   "id": "a95bcf13-16a0-4b83-b4ca-7799ff9066d4",
   "metadata": {},
   "outputs": [],
   "source": [
    "#sepal length has more standard deviation which means sepal_length data set has more variability but less consistency and sepal_width has less"
   ]
  },
  {
   "cell_type": "code",
   "execution_count": 21,
   "id": "9ab72607-2888-4284-b759-3490c9cb7c6e",
   "metadata": {},
   "outputs": [],
   "source": [
    "#5.shape of distribution without plotting ,assess without the petal_length distribution is akewed.use a descriptive statistic that measures skewness and infer the distribution shape."
   ]
  },
  {
   "cell_type": "code",
   "execution_count": 22,
   "id": "3f2c2587-6cf7-4fa9-83a4-586290c8be53",
   "metadata": {},
   "outputs": [
    {
     "data": {
      "text/plain": [
       "3.758666666666666"
      ]
     },
     "execution_count": 22,
     "metadata": {},
     "output_type": "execute_result"
    }
   ],
   "source": [
    "mean=sub_df['petal_length'].mean()\n",
    "mean"
   ]
  },
  {
   "cell_type": "code",
   "execution_count": 24,
   "id": "059f822c-a9a7-4ea4-958b-9df4bf60933b",
   "metadata": {},
   "outputs": [
    {
     "data": {
      "text/plain": [
       "4.35"
      ]
     },
     "execution_count": 24,
     "metadata": {},
     "output_type": "execute_result"
    }
   ],
   "source": [
    "median=sub_df['petal_length'].median()\n",
    "median"
   ]
  },
  {
   "cell_type": "code",
   "execution_count": null,
   "id": "47c11022-81f8-427d-a808-7b9d72c3d6e2",
   "metadata": {},
   "outputs": [],
   "source": [
    "skew=sub_df['petal_length'].skew()\n",
    "skew"
   ]
  },
  {
   "cell_type": "code",
   "execution_count": null,
   "id": "643c0e79-3951-45b2-bf20-cde2e30f5fe5",
   "metadata": {},
   "outputs": [],
   "source": [
    "# the data  of petal_length is left skewed because mean of petal length is less than the median."
   ]
  },
  {
   "cell_type": "code",
   "execution_count": null,
   "id": "3a9c82e6-ca03-4e0a-ab2f-e2dd133dac6d",
   "metadata": {},
   "outputs": [],
   "source": [
    "#6.symmetry: for which attribute,sepal_length or sepal_width,is the skewness  closer to zero? what does this imply  about the symmetry of its distribution?"
   ]
  },
  {
   "cell_type": "code",
   "execution_count": null,
   "id": "38ed1fa4-a339-409b-8d62-a6b16762ddad",
   "metadata": {},
   "outputs": [],
   "source": [
    "mean=sub_df['sepal_length'].mean()\n",
    "mean"
   ]
  },
  {
   "cell_type": "code",
   "execution_count": null,
   "id": "8fcb338b-896f-4a21-bf2f-1202fad848aa",
   "metadata": {},
   "outputs": [],
   "source": [
    "median=sub_df['sepal_length'].medain()\n",
    "median"
   ]
  },
  {
   "cell_type": "code",
   "execution_count": null,
   "id": "0b765b9e-bf2e-4c80-b27c-299476073b35",
   "metadata": {},
   "outputs": [],
   "source": [
    "skew=sub_df['sepal_length'].skew()\n",
    "skew"
   ]
  },
  {
   "cell_type": "code",
   "execution_count": null,
   "id": "dfcd902c-f8d6-4cc7-abfd-c901fa19c85c",
   "metadata": {},
   "outputs": [],
   "source": [
    "mean2=sub_df['sepal_length'].mean2()\n",
    "mean2"
   ]
  },
  {
   "cell_type": "code",
   "execution_count": null,
   "id": "bd240ba2-59a9-4f2f-82af-6c69d23299be",
   "metadata": {},
   "outputs": [],
   "source": [
    "median2=sub_df['sepal_length'].median()\n",
    "median"
   ]
  },
  {
   "cell_type": "code",
   "execution_count": null,
   "id": "5de725b1-33fc-4e50-ad67-8c9676077f1e",
   "metadata": {},
   "outputs": [],
   "source": [
    "skew2=sub_df['sepal_length'].skew()\n",
    "skew"
   ]
  },
  {
   "cell_type": "code",
   "execution_count": null,
   "id": "285a3b15-6fbf-42ea-bb0b-57103c29e6d5",
   "metadata": {},
   "outputs": [],
   "source": [
    "#both sepal_length and sepal_width are right skewed data and both attribute has not skewneess which is closer to zero."
   ]
  },
  {
   "cell_type": "code",
   "execution_count": null,
   "id": "bd72206c-cc73-458b-a908-697f43ce98a3",
   "metadata": {},
   "outputs": [],
   "source": [
    "#7.coefficient of variation:calculate the coefficient of variatoion(cv) for sepal_length and petal_length which feature has greater relative variability,and what does this tell you about the dataset?"
   ]
  },
  {
   "cell_type": "code",
   "execution_count": null,
   "id": "08a907a0-b62c-4351-9624-4bc1e8529903",
   "metadata": {},
   "outputs": [],
   "source": [
    "#calculate cv of petal_length"
   ]
  },
  {
   "cell_type": "code",
   "execution_count": null,
   "id": "6d75cfb2-d330-45b5-907a-682dcc918a93",
   "metadata": {},
   "outputs": [],
   "source": [
    "cv=sub_df['petal_length'].std()/sub_df['petal_length'].mean()*100\n",
    "cv"
   ]
  },
  {
   "cell_type": "code",
   "execution_count": null,
   "id": "b80c9316-1b9e-4c93-a841-37ae9fa1cd02",
   "metadata": {},
   "outputs": [],
   "source": [
    "#petal_length has greater relative variability has it has higher cv than sepal_length which meaan it has a greater variation but less consistency."
   ]
  },
  {
   "cell_type": "code",
   "execution_count": null,
   "id": "a215533d-d7c1-407a-aa50-6ec281ee6713",
   "metadata": {},
   "outputs": [],
   "source": [
    "#8.outer detection  using IQR identify the outlier in the sepal_length feature using the  IQR method(define outliers as value that fall below q1-1.5*IQR or above q3+1.5*IQR).how many outliers are present?"
   ]
  },
  {
   "cell_type": "code",
   "execution_count": null,
   "id": "a549b108-1348-4c99-b413-278a9c290173",
   "metadata": {},
   "outputs": [],
   "source": [
    "se_iqr=sub_df['sepal_length'].quantile(0.75)-sub_df['sepal_length'].quantile(0.25)\n",
    "se_iqr"
   ]
  },
  {
   "cell_type": "code",
   "execution_count": null,
   "id": "7b048a8f-d8d5-45c0-bee6-187da4369299",
   "metadata": {},
   "outputs": [],
   "source": [
    "upper_fence=sub_df['sepal_length'].quantile(0.75)+1.5*se_iqr\n",
    "upper_fance"
   ]
  },
  {
   "cell_type": "code",
   "execution_count": null,
   "id": "790993a0-4cdd-4a18-9230-ab40de7d8baa",
   "metadata": {},
   "outputs": [],
   "source": [
    "lower_fence=sub-df['sepal_length'].quantile(0.25)-1.5*se-iqr\n",
    "lower_fence"
   ]
  },
  {
   "cell_type": "code",
   "execution_count": null,
   "id": "ee9ea973-f274-4215-b935-ecba4810968b",
   "metadata": {},
   "outputs": [],
   "source": [
    "outlier=sub_df[(sub_df['sepal_length'] >upper_fence)|\n",
    "        (sub_df['sepal_length'] < lower_fence)]\n",
    "print(\"outlier rows:\")\n",
    "print(outlier)"
   ]
  },
  {
   "cell_type": "code",
   "execution_count": null,
   "id": "3dd0daca-8fac-45b1-89b3-242b4b1b7142",
   "metadata": {},
   "outputs": [],
   "source": [
    "numoutlier=outlier.shape[0]\n",
    "print(\"number of outlier:\",numoutlier)"
   ]
  },
  {
   "cell_type": "code",
   "execution_count": null,
   "id": "c4790f86-0b3c-47e2-82cd-7141bed2919d",
   "metadata": {},
   "outputs": [],
   "source": []
  }
 ],
 "metadata": {
  "kernelspec": {
   "display_name": "Python 3 (ipykernel)",
   "language": "python",
   "name": "python3"
  },
  "language_info": {
   "codemirror_mode": {
    "name": "ipython",
    "version": 3
   },
   "file_extension": ".py",
   "mimetype": "text/x-python",
   "name": "python",
   "nbconvert_exporter": "python",
   "pygments_lexer": "ipython3",
   "version": "3.12.4"
  }
 },
 "nbformat": 4,
 "nbformat_minor": 5
}
